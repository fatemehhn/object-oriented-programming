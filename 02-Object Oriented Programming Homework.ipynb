{
 "cells": [
  {
   "cell_type": "markdown",
   "metadata": {},
   "source": [
    "___\n",
    "\n",
    "<a href='https://www.udemy.com/user/joseportilla/'><img src='../Pierian_Data_Logo.png'/></a>\n",
    "___\n",
    "<center><em>Content Copyright by Pierian Data</em></center>"
   ]
  },
  {
   "cell_type": "markdown",
   "metadata": {},
   "source": [
    "# Object Oriented Programming\n",
    "## Homework Assignment\n",
    "\n",
    "#### Problem 1\n",
    "Fill in the Line class methods to accept coordinates as a pair of tuples and return the slope and distance of the line."
   ]
  },
  {
   "cell_type": "code",
   "execution_count": 12,
   "metadata": {},
   "outputs": [],
   "source": [
    "class Line:\n",
    "    \n",
    "    def __init__(self,coor1,coor2):\n",
    "        \n",
    "        self.c1 = coor1\n",
    "        self.c2 = coor2\n",
    "    \n",
    "    def distance(self):\n",
    "        \n",
    "        return ((self.c1[0] + self.c2[1]) ** 2 + (self.c1[0] + self.c2[1]) ** 2) ** 0.5\n",
    "    \n",
    "    def slope(self):\n",
    "        return (self.c1[0] + self.c2[1])/(self.c1[0] + self.c2[1])"
   ]
  },
  {
   "cell_type": "code",
   "execution_count": 28,
   "metadata": {},
   "outputs": [],
   "source": [
    "# 2nd solution\n",
    "\n",
    "class Line():\n",
    "    \n",
    "    def __init__(self,coor1,coor2):\n",
    "        \n",
    "        self.c1 = coor1\n",
    "        self.c2 = coor2\n",
    "    \n",
    "    def distance(self):\n",
    "        \n",
    "        return ((self.c1[0] + self.c1[1]) ** 2 + (self.c2[0] + self.c2[1]) ** 2) ** 0.5\n",
    "    \n",
    "    def slope(self):\n",
    "        return (self.c2[1] - self.c2[0])/(self.c1[1] - self.c1[0])\n",
    "    "
   ]
  },
  {
   "cell_type": "code",
   "execution_count": 37,
   "metadata": {},
   "outputs": [],
   "source": [
    "# 3rd solution\n",
    "\n",
    "class Line():\n",
    "    \n",
    "    def __init__(self,coor1,coor2):\n",
    "        \n",
    "        self.x1 = coor1[0]\n",
    "        self.x2 = coor1[1]\n",
    "        self.y1 = coor2[0]\n",
    "        self.y2 = coor2[1]\n",
    "        \n",
    "    def distance(self):\n",
    "        \n",
    "         return ((self.x1 + self.x2) ** 2 + (self.y1 + self.y2) ** 2) ** 0.5\n",
    "        \n",
    "    def slope(self):\n",
    "        return (self.y2 - self.y1)/(self.x2 - self.x1)"
   ]
  },
  {
   "cell_type": "code",
   "execution_count": 51,
   "metadata": {},
   "outputs": [],
   "source": [
    "# 4th solution\n",
    "\n",
    "class Line():\n",
    "    \n",
    "    def __init__(self,coor1,coor2):\n",
    "        \n",
    "        self.c1 = coor1\n",
    "        self.c2 = coor2\n",
    "        \n",
    "        \n",
    "    def distance(self):\n",
    "        x1 = self.c1[0]\n",
    "        x2 = self.c1[1]\n",
    "        y1 = self.c2[0]\n",
    "        y2 = self.c2[1]\n",
    "        return ((x1 + x2) ** 2 + (y1 + y2) ** 2) ** 0.5\n",
    "        \n",
    "    def slope(self):\n",
    "        x1 = self.c1[0]\n",
    "        x2 = self.c1[1]\n",
    "        y1 = self.c2[0]\n",
    "        y2 = self.c2[1]\n",
    "        \n",
    "        return (y2 - y1)/(x2 - x1)"
   ]
  },
  {
   "cell_type": "code",
   "execution_count": 54,
   "metadata": {},
   "outputs": [],
   "source": [
    "# 4th solution\n",
    "\n",
    "class Line():\n",
    "    \n",
    "    def __init__(self,coor1,coor2):\n",
    "        \n",
    "        self.c1 = coor1\n",
    "        self.c2 = coor2\n",
    "        \n",
    "        \n",
    "    def distance(self):\n",
    "        x1, x2 = self.c1\n",
    "        y1, y2 = self.c2\n",
    "\n",
    "        return ((x1 + x2) ** 2 + (y1 + y2) ** 2) ** 0.5\n",
    "        \n",
    "    def slope(self):\n",
    "        x1, x2 = self.c1\n",
    "        y1, y2 = self.c2\n",
    "        \n",
    "        return (y2 - y1)/(x2 - x1)"
   ]
  },
  {
   "cell_type": "code",
   "execution_count": 55,
   "metadata": {},
   "outputs": [
    {
     "data": {
      "text/plain": [
       "18.681541692269406"
      ]
     },
     "execution_count": 55,
     "metadata": {},
     "output_type": "execute_result"
    }
   ],
   "source": [
    "# EXAMPLE OUTPUT\n",
    "\n",
    "coordinate1 = (3,2)\n",
    "coordinate2 = (8,10)\n",
    "\n",
    "li = Line(coordinate1,coordinate2)\n",
    "\n",
    "li.distance()"
   ]
  },
  {
   "cell_type": "code",
   "execution_count": 56,
   "metadata": {},
   "outputs": [
    {
     "data": {
      "text/plain": [
       "-2.0"
      ]
     },
     "execution_count": 56,
     "metadata": {},
     "output_type": "execute_result"
    }
   ],
   "source": [
    "li.slope()"
   ]
  },
  {
   "cell_type": "markdown",
   "metadata": {},
   "source": [
    "________\n",
    "#### Problem 2"
   ]
  },
  {
   "cell_type": "markdown",
   "metadata": {},
   "source": [
    "Fill in the class "
   ]
  },
  {
   "cell_type": "code",
   "execution_count": 1,
   "metadata": {},
   "outputs": [],
   "source": [
    "class Cylinder:\n",
    "    \n",
    "    pi = 3.14\n",
    "    \n",
    "    def __init__(self,height=1,radius=1):\n",
    "        \n",
    "        self.height = height\n",
    "        self.radius = radius\n",
    "        \n",
    "    def volume(self):\n",
    "        return self.pi * self.radius * self.radius * self.height\n",
    "    \n",
    "    def surface_area(self):\n",
    "        return 2 * self.pi * self.radius * self.height + 2 * self.pi * (self.radius ** 2)"
   ]
  },
  {
   "cell_type": "code",
   "execution_count": 2,
   "metadata": {},
   "outputs": [],
   "source": [
    "# EXAMPLE OUTPUT\n",
    "c = Cylinder(2,3)"
   ]
  },
  {
   "cell_type": "code",
   "execution_count": 3,
   "metadata": {},
   "outputs": [
    {
     "data": {
      "text/plain": [
       "56.519999999999996"
      ]
     },
     "execution_count": 3,
     "metadata": {},
     "output_type": "execute_result"
    }
   ],
   "source": [
    "c.volume()"
   ]
  },
  {
   "cell_type": "code",
   "execution_count": 4,
   "metadata": {},
   "outputs": [
    {
     "data": {
      "text/plain": [
       "94.2"
      ]
     },
     "execution_count": 4,
     "metadata": {},
     "output_type": "execute_result"
    }
   ],
   "source": [
    "c.surface_area()"
   ]
  },
  {
   "cell_type": "code",
   "execution_count": null,
   "metadata": {},
   "outputs": [],
   "source": []
  }
 ],
 "metadata": {
  "kernelspec": {
   "display_name": "Python 3",
   "language": "python",
   "name": "python3"
  },
  "language_info": {
   "codemirror_mode": {
    "name": "ipython",
    "version": 3
   },
   "file_extension": ".py",
   "mimetype": "text/x-python",
   "name": "python",
   "nbconvert_exporter": "python",
   "pygments_lexer": "ipython3",
   "version": "3.8.5"
  }
 },
 "nbformat": 4,
 "nbformat_minor": 1
}
